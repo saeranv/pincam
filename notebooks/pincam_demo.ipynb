{
 "cells": [
  {
   "cell_type": "code",
   "execution_count": 7,
   "metadata": {},
   "outputs": [
    {
     "name": "stdout",
     "output_type": "stream",
     "text": [
      "The autoreload extension is already loaded. To reload it, use:\n",
      "  %reload_ext autoreload\n"
     ]
    }
   ],
   "source": [
    "%load_ext autoreload\n",
    "%autoreload 2\n",
    "\n",
    "import sys \n",
    "import os \n",
    "\n",
    "home = os.path.join('..','..')\n",
    "\n",
    "pths = [os.path.join(home, 'pincam')]\n",
    "\n",
    "for pth in pths: \n",
    "    if pth not in sys.path: sys.path.insert(0, pth)\n",
    "        \n",
    "from pincam.utils import *\n",
    "from pincam import Pincam \n",
    "from pincam.matrix_utils2 import MatrixUtils2 as mu\n",
    "\n",
    "from ladybug_geometry.geometry2d.line import LineSegment2D\n",
    "\n",
    "import matplotlib.pyplot as plt\n",
    "\n",
    "r = lambda d: d / 180. * np.pi"
   ]
  },
  {
   "cell_type": "code",
   "execution_count": 8,
   "metadata": {},
   "outputs": [],
   "source": [
    "# Define surfaces\n",
    "bot_srf = np.array(\n",
    "    [[-5, -5, 0], [5, -5, 0], [5, 5, 0], [-5, 5, 0]])\n",
    "top_srf = np.array(\n",
    "    [[-5, -5, 10], [5, -5, 10], [5, 5, 10], [-5, 5, 10]])\n",
    "vrt_srf = np.array(\n",
    "    [[-4, 0, 0], [4, 0, 0], [4, 0, 6], [0, 0, 10], [-4, 0, 6]])\n",
    "\n",
    "# Define surfaces\n",
    "bot_box = np.array(\n",
    "    [[-10, -10, -10], [10, -10, -10], [10, 10, -10], [-10, 10, -10]])\n",
    "top_box = np.array(\n",
    "    [[-10, -10, 10], [10, -10, 10], [10, 10, 10], [-10, 10, 10]])\n",
    "side_box1 = np.array(\n",
    "    [[-10, -10, -10], [10, -10, -10], [10, -10, 10], [-10, -10, 10]])\n",
    "side_box2 = np.array(\n",
    "    [[-10, 10, -10], [10, 10, -10], [10, 10, 10], [-10, 10, 10]])\n",
    "side_box3 = np.array(\n",
    "    [[-10, -10, -10], [-10, 10, -10], [-10, 10, 10], [-10, -10, 10]])\n",
    "side_box4 = np.array(\n",
    "    [[10, -10, -10], [10, 10, -10], [10, 10, 10], [10, -10, 10]])\n",
    "\n",
    "#ptmtx = [top_srf, bot_srf, vrt_srf] \n",
    "ptmtx = [bot_box, top_box, side_box1, side_box2, side_box3]"
   ]
  },
  {
   "cell_type": "code",
   "execution_count": 65,
   "metadata": {},
   "outputs": [
    {
     "name": "stdout",
     "output_type": "stream",
     "text": [
      "array([[-50.        , -52.99875777, -41.42621966],\n",
      "       [ 50.        , -52.99875777, -41.42621966],\n",
      "       [ 50.        , -35.63394   ,  57.05455565],\n",
      "       [-50.        , -35.63394   ,  57.05455565],\n",
      "       [-50.        , -52.99875777, -41.42621966]])\n"
     ]
    },
    {
     "data": {
      "image/png": "[encoded data removed]",
      "text/plain": [
       "<Figure size 1152x864 with 2 Axes>"
      ]
     },
     "metadata": {
      "needs_background": "light"
     },
     "output_type": "display_data"
    }
   ],
   "source": [
    "focal_length = 20\n",
    "heading = r(0)\n",
    "pitch = r(10)\n",
    "cam_point = np.array([0, -45, 0])\n",
    "cam = Pincam(cam_point, heading, pitch, focal_length)\n",
    "\n",
    "_ptmtx = cam.view_frustum_geometry([])\n",
    "c = _ptmtx.pop()\n",
    "pp(c)\n",
    "\n",
    "# Make a second camera\n",
    "focal_length = 18\n",
    "heading = r(60)\n",
    "pitch = r(15)\n",
    "cam_point2 = np.array([0, -500, 10])\n",
    "cam2 = Pincam(cam_point2, heading, pitch, focal_length)\n",
    "df = gpd.GeoDataFrame({})\n",
    "df['geometry'] = cam2.to_gpd_geometry(_ptmtx + ptmtx)\n",
    "c = cam2.to_gpd_geometry([c])[0]\n",
    "\n",
    "# Plot\n",
    "f, _a = plt.subplots(2,1, figsize=(16, 12))\n",
    "a = _a[0]\n",
    "a = df.plot(edgecolor='black', alpha=0.75, ax=a, lw=0, facecolor='lightblue')\n",
    "a = df.plot(edgecolor='black', facecolor=\"none\", lw=0.75, ax=a)\n",
    "a.plot(*c.exterior.xy, 'red')\n",
    "_ = a.axis(False)\n",
    "\n",
    "a = _a[1]\n",
    "df2 = gpd.GeoDataFrame({})\n",
    "df2['geometry'] = cam.to_gpd_geometry(ptmtx)\n",
    "a = df2.plot(edgecolor='black', alpha=0.75, ax=a, facecolor='lightblue')\n",
    "b = cam2.sensor_plane_ptmtx_2d\n",
    "a.plot(b[:,0], b[:,1], 'red')\n",
    "a.grid(False) \n",
    "_ = a.axis(False)"
   ]
  },
  {
   "cell_type": "markdown",
   "metadata": {},
   "source": [
    "# L = [1,2,3]\n",
    "W = ['a', 'b', 'c']\n",
    "\n",
    "list(zip(L, W))"
   ]
  }
 ],
 "metadata": {
  "kernelspec": {
   "display_name": "Python 3",
   "language": "python",
   "name": "python3"
  },
  "language_info": {
   "codemirror_mode": {
    "name": "ipython",
    "version": 3
   },
   "file_extension": ".py",
   "mimetype": "text/x-python",
   "name": "python",
   "nbconvert_exporter": "python",
   "pygments_lexer": "ipython3",
   "version": "3.7.6"
  }
 },
 "nbformat": 4,
 "nbformat_minor": 4
}
