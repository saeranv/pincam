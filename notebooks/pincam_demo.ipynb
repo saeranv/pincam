{
 "cells": [
  {
   "cell_type": "code",
   "execution_count": 266,
   "metadata": {},
   "outputs": [
    {
     "name": "stdout",
     "output_type": "stream",
     "text": [
      "The autoreload extension is already loaded. To reload it, use:\n",
      "  %reload_ext autoreload\n"
     ]
    }
   ],
   "source": [
    "%load_ext autoreload\n",
    "%autoreload 2\n",
    "\n",
    "import sys \n",
    "import os \n",
    "\n",
    "home = os.path.join('..','..')\n",
    "\n",
    "pths = [os.path.join(home, 'pincam')]\n",
    "\n",
    "for pth in pths: \n",
    "    if pth not in sys.path: sys.path.insert(0, pth)\n",
    "        \n",
    "from pincam.utils import *\n",
    "from pincam import Pincam \n",
    "from pincam.matrix_utils2 import MatrixUtils2 as mu\n",
    "\n",
    "from ladybug_geometry.geometry2d.line import LineSegment2D\n",
    "\n",
    "import matplotlib.pyplot as plt\n",
    "\n",
    "r = lambda d: d / 180. * np.pi"
   ]
  },
  {
   "cell_type": "code",
   "execution_count": 267,
   "metadata": {},
   "outputs": [
    {
     "data": {
      "image/png": "[encoded data removed]",
      "text/plain": [
       "<Figure size 288x288 with 1 Axes>"
      ]
     },
     "metadata": {
      "needs_background": "light"
     },
     "output_type": "display_data"
    }
   ],
   "source": [
    "# Define surfaces\n",
    "bot_srf = np.array(\n",
    "    [[-5, -5, 0], [5, -5, 0], [5, 5, 0], [-5, 5, 0]])\n",
    "top_srf = np.array(\n",
    "    [[-5, -5, 10], [5, -5, 10], [5, 5, 10], [-5, 5, 10]])\n",
    "vrt_srf = np.array(\n",
    "    [[-4, 0, 0], [4, 0, 0], [4, 0, 6], [0, 0, 10], [-4, 0, 6]])\n",
    "ptmtx = [top_srf, bot_srf, vrt_srf] \n",
    "\n",
    "# Plot\n",
    "focal_length = 35\n",
    "heading = r(15)\n",
    "pitch = r(15)\n",
    "cam_point = np.array([0, -35, 4])\n",
    "pincam = Pincam(cam_point, heading, pitch, focal_length)\n",
    "\n",
    "df = gpd.GeoDataFrame({})\n",
    "df['geometry'] = pincam.to_gpd_geometry(ptmtx)\n",
    "#pincam.heading = 45\n",
    "#df['geometry'] = pincam.to_gpd_geometry(ptmtx)\n",
    "\n",
    "# Plot\n",
    "f, a = plt.subplots(figsize=(4, 4))\n",
    "df.plot(edgecolor='black', alpha=1, ax=a, facecolor='lightblue')\n",
    "b = pincam.sensor_bounds(100)\n",
    "a.plot(b[:,0], b[:,1], 'red')\n",
    "a.grid(False)\n",
    "_ = a.axis(False)"
   ]
  },
  {
   "cell_type": "code",
   "execution_count": 268,
   "metadata": {},
   "outputs": [
    {
     "data": {
      "image/png": "[encoded data removed]",
      "text/plain": [
       "<Figure size 288x288 with 1 Axes>"
      ]
     },
     "metadata": {
      "needs_background": "light"
     },
     "output_type": "display_data"
    }
   ],
   "source": [
    "# Define surfaces\n",
    "# bot_srf = np.array(\n",
    "#     [[-5, -5, 0], [5, -5, 0], [5, 5, 0], [-5, 5, 0]])\n",
    "# top_srf = np.array(\n",
    "#     [[-5, -5, 10], [5, -5, 10], [5, 5, 10], [-5, 5, 10]])\n",
    "# vrt_srf = np.array(\n",
    "#     [[-4, 0, 0], [4, 0, 0], [4, 0, 6], [0, 0, 10], [-4, 0, 6]])\n",
    "# ptmtx = [vrt_srf, top_srf, bot_srf]\n",
    "\n",
    "bot_box = np.array(\n",
    "    [[-10, -10, -10], [10, -10, -10], [10, 10, -10], [-10, 10, -10]])\n",
    "top_box = np.array(\n",
    "    [[-10, -10, 10], [10, -10, 10], [10, 10, 10], [-10, 10, 10]])\n",
    "side_box1 = np.array(\n",
    "    [[-10, -10, -10], [10, -10, -10], [10, -10, 10], [-10, -10, 10]])\n",
    "side_box2 = np.array(\n",
    "    [[-10, 10, -10], [10, 10, -10], [10, 10, 10], [-10, 10, 10]])\n",
    "side_box3 = np.array(\n",
    "    [[-10, -10, -10], [-10, 10, -10], [-10, 10, 10], [-10, -10, 10]])\n",
    "side_box4 = np.array(\n",
    "    [[10, -10, -10], [10, 10, -10], [10, 10, 10], [10, -10, 10]])\n",
    "\n",
    "ptmtx = [bot_box, top_box, side_box1, side_box2, side_box3]\n",
    "# Plot\n",
    "focal_length = 19\n",
    "heading = r(5)\n",
    "pitch = r(-10)\n",
    "cam_point = np.array([0, -45, 0])\n",
    "cam = Pincam(cam_point, heading, pitch, focal_length)\n",
    "\n",
    "# Plot\n",
    "f, a = plt.subplots(figsize=(4, 4))\n",
    "df = gpd.GeoDataFrame({})\n",
    "df['geometry'] = cam.to_gpd_geometry(ptmtx)\n",
    "df.plot(edgecolor='black', alpha=0.75, ax=a, facecolor='lightblue')\n",
    "b = pincam.sensor_bounds(100)\n",
    "a.plot(b[:,0], b[:,1], 'red')\n",
    "a.grid(False)\n",
    "_ = a.axis(False)"
   ]
  },
  {
   "cell_type": "code",
   "execution_count": 269,
   "metadata": {},
   "outputs": [],
   "source": [
    "# w = [xsrf[:, 1].tolist() for xsrf in xsrfs]\n",
    "# w = [w3 for w2 in w for w3 in w2]\n",
    "# for i in range(len(xsrfs)):\n",
    "#     _w = xsrfs[i][:,1]\n",
    "#     _w = (_w - min(w)) / (max(w) - min(w)) * 50\n",
    "#     xsrfs[i][:, 1] = _w"
   ]
  },
  {
   "cell_type": "code",
   "execution_count": 274,
   "metadata": {},
   "outputs": [
    {
     "data": {
      "image/png": "[encoded data removed]",
      "text/plain": [
       "<Figure size 288x288 with 1 Axes>"
      ]
     },
     "metadata": {
      "needs_background": "light"
     },
     "output_type": "display_data"
    }
   ],
   "source": [
    "xsrfs = [cam.fit_to_view_frustum(cam.P, pts) for pts in ptmtx]\n",
    "origin = np.array(\n",
    "    [[-1, -1, 0], [1, -1, 0], [1, 1, 0], [-1, 1, 0]]) * 5\n",
    "\n",
    "sensor = np.array(\n",
    "    [[-1, 0, -1], [1, 0, -1], [1, 0, 1], [-1, 0, 1]]) * 5\n",
    "sensor = np.insert(sensor, 3, 1, 1)\n",
    "Rt = cam.extrinsic_matrix(cam.heading, cam.pitch, cam.cam_point)\n",
    "iRt = Pincam.invert_extrinsic_matrix(Rt)\n",
    "#iRt = np.eye(4)\n",
    "#iRt[:3, 3] = Rt[:3, 3]\n",
    "#iRt = np.copy(Rt)\n",
    "sensor1 = sensor[:, :3]\n",
    "sensor2 = np.matmul(iRt, sensor.T).T[:, :3]\n",
    "\n",
    "#move = cam_point\n",
    "#xf = mu.xform_translation_matrix(move)\n",
    "xf = Pincam.invert_extrinsic_matrix(Rt)\n",
    "xsrfs = [np.insert(xsrf, 3, 1, 1) for xsrf in xsrfs]\n",
    "xsrfs = [np.matmul(xf, xsrf.T).T for xsrf in xsrfs] \n",
    "xsrfs = [xsrf[:, :3] for xsrf in xsrfs]\n",
    "\n",
    "focal_length = 18\n",
    "heading = r(55)\n",
    "pitch = r(10)\n",
    "cam_point2 = np.array([0, -150, 10])\n",
    "cam2 = Pincam(cam_point2, heading, pitch, focal_length)\n",
    "df = gpd.GeoDataFrame({})\n",
    "df['geometry'] = cam2.to_gpd_geometry(\n",
    "    xsrfs + [origin, sensor2] +\n",
    "    ptmtx)# + [box])\n",
    "\n",
    "# Plot\n",
    "f, a = plt.subplots(figsize=(4, 4))\n",
    "a = df.plot(edgecolor='black', alpha=0.75, ax=a, facecolor='lightblue')\n",
    "a = df.plot(edgecolor='black', facecolor=\"none\", ax=a)\n",
    "b = pincam.sensor_bounds(100)\n",
    "a.plot(b[:,0], b[:,1], 'red')\n",
    "a.grid(False) \n",
    "_ = a.axis(False)"
   ]
  },
  {
   "cell_type": "code",
   "execution_count": null,
   "metadata": {},
   "outputs": [],
   "source": [
    "\n"
   ]
  },
  {
   "cell_type": "code",
   "execution_count": null,
   "metadata": {},
   "outputs": [],
   "source": [
    "\n",
    "\n"
   ]
  }
 ],
 "metadata": {
  "kernelspec": {
   "display_name": "Python 3",
   "language": "python",
   "name": "python3"
  },
  "language_info": {
   "codemirror_mode": {
    "name": "ipython",
    "version": 3
   },
   "file_extension": ".py",
   "mimetype": "text/x-python",
   "name": "python",
   "nbconvert_exporter": "python",
   "pygments_lexer": "ipython3",
   "version": "3.7.6"
  }
 },
 "nbformat": 4,
 "nbformat_minor": 4
}
