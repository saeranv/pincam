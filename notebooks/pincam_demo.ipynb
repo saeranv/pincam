{
 "cells": [
  {
   "cell_type": "code",
   "execution_count": 1,
   "metadata": {},
   "outputs": [],
   "source": [
    "%load_ext autoreload\n",
    "%autoreload 2\n",
    "\n",
    "import sys \n",
    "import os \n",
    "\n",
    "home = os.path.join('..','..')\n",
    "\n",
    "pths = [os.path.join(home, 'pincam')]\n",
    "\n",
    "for pth in pths: \n",
    "    if pth not in sys.path: sys.path.insert(0, pth)\n",
    "        \n",
    "from pincam.utils import *\n",
    "#from pml.shapedataframe import ShapeDataFrame\n",
    "import pincam.pincam as cam \n",
    "from pincam.matrix_utils2 import MatrixUtils2 as mu\n",
    "#import pincam.feature as af \n",
    "\n",
    "from ladybug_geometry.geometry2d.line import LineSegment2D\n",
    "\n",
    "import matplotlib.pyplot as plt\n",
    "from mpl_toolkits.mplot3d import Axes3D"
   ]
  },
  {
   "cell_type": "code",
   "execution_count": 2,
   "metadata": {},
   "outputs": [],
   "source": [
    "# Make test surfaces \n",
    "horsrf1 = np.array(\n",
    "    [[-5, -5, 0], [5, -5, 0], [5, 5, 0], [-5, 5, 0]])\n",
    "versrf1 = np.array(\n",
    "    [[-3, 0, 0], [3, 0, 0], [3, 0, 6], [0, 0, 9], [-3, 0, 6]])\n",
    "versrf2 = np.array(\n",
    "    [[-3, 2, 0], [3, 2, 0], [3, 2, 6], [0, 2, 9], [-3, 2, 6]])\n",
    "versrf3 = np.array(\n",
    "    [[-3, -2, 0], [3, -2, 0], [3, -2, 6], [0, -2, 9], [-3, -2, 6]])\n",
    "horsrf2 = np.array(\n",
    "    [[-5, -5, 9], [5, -5, 9], [5, 5, 9], [-5, 5, 9]])\n",
    "versrf4 = np.array(\n",
    "    [[-3, 0, 9], [3, 0, 9], [3, 0, 15], [0, 0, 18], [-3, 0, 15]])"
   ]
  },
  {
   "cell_type": "code",
   "execution_count": 3,
   "metadata": {},
   "outputs": [
    {
     "data": {
      "image/png": "[encoded data removed]",
      "text/plain": [
       "<Figure size 288x288 with 1 Axes>"
      ]
     },
     "metadata": {
      "needs_background": "light"
     },
     "output_type": "display_data"
    }
   ],
   "source": [
    "r = lambda d: d / 180. * np.pi\n",
    "fov = r(35)\n",
    "heading = r(55)\n",
    "pitch = r(35)\n",
    "cam_posn = np.array([0, -35, 4])\n",
    "P, Rtc = cam.projection_matrix(\n",
    "    fov, 5, heading, pitch, cam_posn)\n",
    "geoms = [horsrf1, horsrf2, versrf1, versrf2, versrf3, versrf4]\n",
    "xgeoms = cam.project_by_z(P, P, cam_posn, geoms, False)#[0:]\n",
    "\n",
    "xgeoms = [mu.shapely_from_srf3d(srf) for srf in xgeoms]\n",
    "df = gpd.GeoDataFrame({'geometry': xgeoms,\n",
    "                       'color': np.arange(len(xgeoms))})\n",
    "# Plot\n",
    "f, a = plt.subplots(figsize=(4, 4))\n",
    "df.plot(edgecolor='black', alpha=1, ax=a, facecolor='lightblue')\n",
    "        #column='color')\n",
    "b = cam.sensor_bounds(100)\n",
    "a.plot(b[:,0], b[:,1], 'red')\n",
    "a.grid(False)\n",
    "_ = a.axis(False)\n"
   ]
  },
  {
   "cell_type": "code",
   "execution_count": 6,
   "metadata": {},
   "outputs": [
    {
     "data": {
      "text/plain": [
       "[array([[ 19.42634176, -36.19840711],\n",
       "        [-31.16510699, -27.96121033],\n",
       "        [-14.10866749,  -5.63464271],\n",
       "        [ 25.93732709, -10.61351528]]),\n",
       " array([[ 18.35518671, -21.081233  ],\n",
       "        [-17.39674995, -16.04042901],\n",
       "        [-18.71740002,   9.08509537],\n",
       "        [  0.        ,  26.62286934],\n",
       "        [ 19.83153656,   5.13442237]]),\n",
       " array([[ 22.68117026,  15.87814324],\n",
       "        [-35.9424611 ,  20.94720835],\n",
       "        [-15.75017557,  34.08418287],\n",
       "        [ 29.16340163,  31.22805151]])]"
      ]
     },
     "execution_count": 6,
     "metadata": {},
     "output_type": "execute_result"
    }
   ],
   "source": [
    "# Define surfaces\n",
    "bottom_surface = np.array(\n",
    "    [[-5, -5, 0], [5, -5, 0], [5, 5, 0], [-5, 5, 0]]\n",
    ")\n",
    "top_surface = bottom_surface.copy()\n",
    "top_surface[:,2] = 10\n",
    "vertical_surface = np.array(\n",
    "    [[-4, 0, 0], [4, 0, 0], [4, 0, 6], [0, 0, 10], [-4, 0, 6]])\n",
    "\n",
    "geoms = [bottom_surface, top_surface, vertical_surface]\n",
    "# Plot\n",
    "fov = r(35)\n",
    "heading = r(15)\n",
    "pitch = r(25)\n",
    "cam_posn = np.array([0, -35, 4])\n",
    "P, Rtc = cam.projection_matrix(fov, 5, heading, pitch, cam_posn)\n",
    "xgeoms = cam.project_by_z(P, P, cam_posn, geoms, False)#[0:]\n",
    "\n",
    "# # Plot\n",
    "# xgeoms = [mu.shapely_from_srf3d(srf) for srf in xgeoms]\n",
    "# df = gpd.GeoDataFrame({'geometry': xgeoms,'color': np.arange(len(xgeoms))})\n",
    "# f, a = plt.subplots(figsize=(4, 4))\n",
    "# df.plot(edgecolor='black', alpha=1, ax=a, facecolor='lightblue')\n",
    "# b = cam.sensor_bounds(100)\n",
    "# a.plot(b[:,0], b[:,1], 'red')\n",
    "# a.grid(False)\n",
    "# _ = a.axis(False)"
   ]
  },
  {
   "cell_type": "code",
   "execution_count": null,
   "metadata": {},
   "outputs": [],
   "source": []
  }
 ],
 "metadata": {
  "kernelspec": {
   "display_name": "Python 3",
   "language": "python",
   "name": "python3"
  },
  "language_info": {
   "codemirror_mode": {
    "name": "ipython",
    "version": 3
   },
   "file_extension": ".py",
   "mimetype": "text/x-python",
   "name": "python",
   "nbconvert_exporter": "python",
   "pygments_lexer": "ipython3",
   "version": "3.7.7"
  }
 },
 "nbformat": 4,
 "nbformat_minor": 4
}
