{
 "cells": [
  {
   "cell_type": "code",
   "execution_count": 9,
   "metadata": {},
   "outputs": [
    {
     "name": "stdout",
     "output_type": "stream",
     "text": [
      "The autoreload extension is already loaded. To reload it, use:\n",
      "  %reload_ext autoreload\n"
     ]
    }
   ],
   "source": [
    "%load_ext autoreload\n",
    "%autoreload 2\n",
    "\n",
    "import sys \n",
    "import os \n",
    "\n",
    "home = os.path.join('..','..')\n",
    "\n",
    "pths = [os.path.join(home, 'pincam')]\n",
    "\n",
    "for pth in pths: \n",
    "    if pth not in sys.path: sys.path.insert(0, pth)\n",
    "        \n",
    "from pincam.utils import *\n",
    "from pincam.pincam import PinCam \n",
    "from pincam.matrix_utils2 import MatrixUtils2 as mu\n",
    "#import pincam.feature as af \n",
    "\n",
    "from ladybug_geometry.geometry2d.line import LineSegment2D\n",
    "\n",
    "import matplotlib.pyplot as plt\n",
    "\n",
    "r = lambda d: d / 180. * np.pi"
   ]
  },
  {
   "cell_type": "code",
   "execution_count": 49,
   "metadata": {},
   "outputs": [
    {
     "data": {
      "image/png": "[encoded data removed]",
      "text/plain": [
       "<Figure size 288x288 with 1 Axes>"
      ]
     },
     "metadata": {
      "needs_background": "light"
     },
     "output_type": "display_data"
    }
   ],
   "source": [
    "# Define surfaces\n",
    "bot_srf = np.array(\n",
    "    [[-5, -5, 0], [5, -5, 0], [5, 5, 0], [-5, 5, 0]]\n",
    "    )\n",
    "top_srf = np.array(\n",
    "    [[-5, -5, 10], [5, -5, 10], [5, 5, 10], [-5, 5, 10]]\n",
    "    )\n",
    "vrt_srf = np.array(\n",
    "    [[-4, 0, 0], [4, 0, 0], [4, 0, 6], [0, 0, 10], [-4, 0, 6]]\n",
    "    )\n",
    "ptmtx = [vrt_srf, top_srf, bot_srf]\n",
    "\n",
    "# Plot\n",
    "focal_length = 35\n",
    "heading = r(15)\n",
    "pitch = r(25)\n",
    "cam_point = np.array([0, -35, 4])\n",
    "pincam = PinCam(cam_point, heading, pitch, focal_length)\n",
    "\n",
    "df = gpd.GeoDataFrame({})\n",
    "df['geometry'] = pincam.to_gpd_geometry(ptmtx)\n",
    "pincam.heading = 45\n",
    "df['geometry'] = pincam.to_gpd_geometry(ptmtx)\n",
    "\n",
    "# Plot\n",
    "f, a = plt.subplots(figsize=(4, 4))\n",
    "df.plot(edgecolor='black', alpha=1, ax=a, facecolor='lightblue')\n",
    "b = pincam.sensor_bounds(100)\n",
    "a.plot(b[:,0], b[:,1], 'red')\n",
    "a.grid(False)\n",
    "_ = a.axis(False)"
   ]
  },
  {
   "cell_type": "code",
   "execution_count": null,
   "metadata": {},
   "outputs": [],
   "source": []
  }
 ],
 "metadata": {
  "kernelspec": {
   "display_name": "Python 3",
   "language": "python",
   "name": "python3"
  },
  "language_info": {
   "codemirror_mode": {
    "name": "ipython",
    "version": 3
   },
   "file_extension": ".py",
   "mimetype": "text/x-python",
   "name": "python",
   "nbconvert_exporter": "python",
   "pygments_lexer": "ipython3",
   "version": "3.7.7"
  }
 },
 "nbformat": 4,
 "nbformat_minor": 4
}
