{
 "cells": [
  {
   "cell_type": "code",
   "execution_count": 1,
   "metadata": {},
   "outputs": [],
   "source": [
    "%load_ext autoreload\n",
    "%autoreload 2\n",
    "\n",
    "import sys \n",
    "import os \n",
    "import cv2 \n",
    "\n",
    "home = os.path.join('..','..')\n",
    "\n",
    "pths = [os.path.join(home, 'pincam')]\n",
    "\n",
    "for pth in pths: \n",
    "    if pth not in sys.path: sys.path.insert(0, pth)\n",
    "        \n",
    "from pincam.utils import *\n",
    "from pincam import Pincam \n",
    "from pincam.matrix_utils2 import MatrixUtils2 as mu\n",
    "\n",
    "from ladybug_geometry.geometry2d.line import LineSegment2D\n",
    "\n",
    "import matplotlib.pyplot as plt\n",
    "\n",
    "r = lambda d: d / 180. * np.pi"
   ]
  },
  {
   "cell_type": "code",
   "execution_count": 2,
   "metadata": {},
   "outputs": [],
   "source": [
    "# Define surfaces\n",
    "bot_srf = np.array(\n",
    "    [[-5, -5, 0], [5, -5, 0], [5, 5, 0], [-5, 5, 0]])\n",
    "top_srf = np.array(\n",
    "    [[-5, -5, 10], [5, -5, 10], [5, 5, 10], [-5, 5, 10]])\n",
    "y = 0\n",
    "vrt_srf = np.array(\n",
    "    [[-4, y, 0], [4, y, 0], [4, y, 6], [0, y, 10], [-4, y, 6]])\n",
    "ptmtx = [bot_srf, top_srf, vrt_srf]"
   ]
  },
  {
   "cell_type": "code",
   "execution_count": 6,
   "metadata": {},
   "outputs": [
    {
     "data": {
      "image/png": "[encoded data removed]",
      "text/plain": [
       "<Figure size 576x576 with 1 Axes>"
      ]
     },
     "metadata": {
      "needs_background": "light"
     },
     "output_type": "display_data"
    }
   ],
   "source": [
    "# Make camera\n",
    "focal_length = 20\n",
    "heading = r(45)\n",
    "pitch = r(0)\n",
    "cam_point = np.array([0, -25, 7])\n",
    "cam = Pincam(cam_point, heading, pitch, focal_length)\n",
    "\n",
    "res = 36\n",
    "xptmtx, _depths = cam.project(cam.P, ptmtx)\n",
    "depths, db = cam.depth_buffer(ptmtx, _depths, res=res)\n",
    "xptmtx = np.array(xptmtx)[depths]\n",
    "geos = [mu.shapely_from_srf3d(np.array(srf)) for srf in xptmtx]\n",
    "df = gpd.GeoDataFrame({'geometry':geos})\n",
    "\n",
    "f, a = plt.subplots(figsize=(8, 8))\n",
    "a = df.plot(edgecolor='black', facecolor='lightblue', alpha=0.9, ax=a)\n",
    "b = cam.sensor_plane_ptmtx_2d\n",
    "a.plot(b[:,0], b[:,1], 'blue', lw=0.5)\n",
    "_ = a.grid(False) \n",
    "_ = a.axis(False)\n",
    "\n",
    "m = cam.ray_hit_matrix(cam.sensor_plane_ptmtx_3d, res=res)\n",
    "#a.scatter(x=m[:,:,0], y=m[:,:,2], color='red',s=2)\n",
    "# rnum = db.shape[1] - 1\n",
    "# for i in db[:,:,2][::-1]:\n",
    "#     for ii, j in enumerate(i):\n",
    "#         fstr = '-' if j < 0 else str(int(j))\n",
    "#         if ii == rnum: fstr += '\\n'\n",
    "#         print(fstr, end=' ')"
   ]
  },
  {
   "cell_type": "code",
   "execution_count": 19,
   "metadata": {},
   "outputs": [
    {
     "name": "stdout",
     "output_type": "stream",
     "text": [
      "[1, 0]\n"
     ]
    },
    {
     "data": {
      "image/png": "[encoded data removed]",
      "text/plain": [
       "<Figure size 576x576 with 1 Axes>"
      ]
     },
     "metadata": {
      "needs_background": "light"
     },
     "output_type": "display_data"
    }
   ],
   "source": [
    "poly_front = np.array(\n",
    "    [[-5, 0, 0], [5, 0, 0], [5, 0, 5], [-5, 0, 5]])\n",
    "poly_back = np.array(\n",
    "    [[-5, 2, 0], [5, 2, 0], [5, 2, 5], [-5, 2, 5]])\n",
    "\n",
    "# Make camera\n",
    "focal_length = 20\n",
    "heading = r(0)\n",
    "pitch = r(10)\n",
    "cam_point = np.array([0, -10, 0])\n",
    "cam = Pincam(cam_point, heading, pitch, focal_length)\n",
    "\n",
    "# Test\n",
    "res = 25\n",
    "ptmtx = [poly_front, poly_back]\n",
    "xptmtx, _depths = cam.project(cam.P, ptmtx)\n",
    "depths, _ = cam.depth_buffer(ptmtx, _depths, res=res)\n",
    "print(depths)\n",
    "xptmtx = np.array(xptmtx)[depths]\n",
    "geos = [mu.shapely_from_srf3d(np.array(srf)) for srf in xptmtx]\n",
    "df = gpd.GeoDataFrame({'geometry':geos})\n",
    "\n",
    "f, a = plt.subplots(figsize=(8, 8))\n",
    "a = df.plot(edgecolor='black', facecolor='lightblue', alpha=0.9, ax=a)\n",
    "#b = cam.sensor_plane_ptmtx_2d\n",
    "#a.plot(b[:,0], b[:,1], 'blue', lw=0.5)\n",
    "_ = a.grid(False) \n",
    "_ = a.axis(False)\n"
   ]
  }
 ],
 "metadata": {
  "kernelspec": {
   "display_name": "Python 3",
   "language": "python",
   "name": "python3"
  },
  "language_info": {
   "codemirror_mode": {
    "name": "ipython",
    "version": 3
   },
   "file_extension": ".py",
   "mimetype": "text/x-python",
   "name": "python",
   "nbconvert_exporter": "python",
   "pygments_lexer": "ipython3",
   "version": "3.7.7"
  }
 },
 "nbformat": 4,
 "nbformat_minor": 4
}
