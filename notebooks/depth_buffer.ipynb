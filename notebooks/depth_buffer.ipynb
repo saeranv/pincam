{
 "cells": [
  {
   "cell_type": "code",
   "execution_count": 11,
   "metadata": {},
   "outputs": [
    {
     "name": "stdout",
     "output_type": "stream",
     "text": [
      "The autoreload extension is already loaded. To reload it, use:\n",
      "  %reload_ext autoreload\n"
     ]
    }
   ],
   "source": [
    "%load_ext autoreload\n",
    "%autoreload 2\n",
    "\n",
    "import sys \n",
    "import os \n",
    "import cv2 \n",
    "\n",
    "home = os.path.join('..','..')\n",
    "\n",
    "pths = [os.path.join(home, 'pincam')]\n",
    "\n",
    "for pth in pths: \n",
    "    if pth not in sys.path: sys.path.insert(0, pth)\n",
    "        \n",
    "from pincam.utils import *\n",
    "from pincam import Pincam \n",
    "from pincam.matrix_utils2 import MatrixUtils2 as mu\n",
    "\n",
    "from ladybug_geometry.geometry2d.line import LineSegment2D\n",
    "\n",
    "import matplotlib.pyplot as plt\n",
    "\n",
    "r = lambda d: d / 180. * np.pi"
   ]
  },
  {
   "cell_type": "code",
   "execution_count": 12,
   "metadata": {},
   "outputs": [],
   "source": [
    "# Define surfaces\n",
    "bot_srf = np.array(\n",
    "    [[-5, -5, 0], [5, -5, 0], [5, 5, 0], [-5, 5, 0]])\n",
    "top_srf = np.array(\n",
    "    [[-5, -5, 10], [5, -5, 10], [5, 5, 10], [-5, 5, 10]])\n",
    "vrt_srf = np.array(\n",
    "    [[-4, 0, 0], [4, 0, 0], [4, 0, 6], [0, 0, 10], [-4, 0, 6]])\n",
    "\n",
    "# Define surfaces\n",
    "bot_box = np.array(\n",
    "    [[-10, -10, -10], [10, -10, -10], [10, 10, -10], [-10, 10, -10]])\n",
    "top_box = np.array(\n",
    "    [[-10, -10, 10], [10, -10, 10], [10, 10, 10], [-10, 10, 10]])\n",
    "side_box1 = np.array(\n",
    "    [[-10, -10, -10], [10, -10, -10], [10, -10, 10], [-10, -10, 10]])\n",
    "side_box2 = np.array(\n",
    "    [[-10, 10, -10], [10, 10, -10], [10, 10, 10], [-10, 10, 10]])\n",
    "side_box3 = np.array(\n",
    "    [[-10, -10, -10], [-10, 10, -10], [-10, 10, 10], [-10, -10, 10]])\n",
    "side_box4 = np.array(\n",
    "    [[10, -10, -10], [10, 10, -10], [10, 10, 10], [10, -10, 10]])\n",
    "\n",
    "#ptmtx = [top_srf, bot_srf, vrt_srf] \n",
    "ptmtx = [bot_box, top_box, side_box1, side_box2, side_box3]"
   ]
  },
  {
   "cell_type": "code",
   "execution_count": 13,
   "metadata": {},
   "outputs": [],
   "source": [
    "focal_length = 20\n",
    "heading = r(0)\n",
    "pitch = r(10)\n",
    "cam_point = np.array([0, -45, 0])\n",
    "cam = Pincam(cam_point, heading, pitch, focal_length)\n",
    "\n",
    "# _ptmtx = cam.view_frustum_geometry(ptmtx)\n",
    "# c = _ptmtx.pop()\n",
    "\n",
    "# # Make a second camera\n",
    "# focal_length = 18\n",
    "# heading = r(60)\n",
    "# pitch = r(15)\n",
    "# cam_point2 = np.array([0, -500, 10])\n",
    "# cam2 = Pincam(cam_point2, heading, pitch, focal_length)\n",
    "# df = gpd.GeoDataFrame({})\n",
    "# df['geometry'] = cam2.to_gpd_geometry(_ptmtx)# ptmtx)\n",
    "# c = cam2.to_gpd_geometry([c])[0]\n",
    "\n",
    "# # Plot\n",
    "# f, _a = plt.subplots(1,2, figsize=(16, 12))\n",
    "# a = _a[0]\n",
    "# a = df.plot(edgecolor='black', alpha=0.75, ax=a, lw=0, facecolor='lightblue')\n",
    "# a = df.plot(edgecolor='black', facecolor=\"none\", lw=0.75, ax=a)\n",
    "# a.plot(*c.exterior.xy, 'red')\n",
    "# _ = a.axis(False)\n",
    "\n",
    "# a = _a[1]\n",
    "# df2 = gpd.GeoDataFrame({})\n",
    "# df2['geometry'] = cam.to_gpd_geometry(ptmtx)\n",
    "# a = df2.plot(edgecolor='black', alpha=0.75, ax=a, facecolor='lightblue')\n",
    "# b = cam2.sensor_plane_ptmtx_2d\n",
    "# a.plot(b[:,0], b[:,1], 'red')\n",
    "# a.grid(False) \n",
    "# _ = a.axis(False)"
   ]
  },
  {
   "cell_type": "code",
   "execution_count": 30,
   "metadata": {},
   "outputs": [
    {
     "data": {
      "text/plain": [
       "(40, 40)"
      ]
     },
     "execution_count": 30,
     "metadata": {},
     "output_type": "execute_result"
    },
    {
     "data": {
      "image/png": "[encoded data removed]",
      "text/plain": [
       "<Figure size 576x576 with 1 Axes>"
      ]
     },
     "metadata": {
      "needs_background": "light"
     },
     "output_type": "display_data"
    }
   ],
   "source": [
    "import matplotlib.pyplot as plt\n",
    "\n",
    "# Make camera\n",
    "focal_length = 20\n",
    "heading = r(0)\n",
    "pitch = r(10)\n",
    "cam_point = np.array([0, -50, 0])\n",
    "cam = Pincam(cam_point, heading, pitch, focal_length)\n",
    "\n",
    "poly_front = np.array(\n",
    "    [[-5, 0, 0], [5, 0, 0], [5, 0, 5], [-5, 0, 5]])\n",
    "poly_back = np.array(\n",
    "    [[-5, 10, 0], [5, 10, 0], [5, 10, 5], [-5, 10, 5]])\n",
    "ptmtx = [poly_front, poly_back]\n",
    "\n",
    "\n",
    "df = cam.image_matrix(ptmtx)\n",
    "fig, ax = plt.subplots(figsize=(8,8))\n",
    "ax = df.plot(edgecolor='black', alpha=0.5, ax=ax)\n",
    "ax.grid(False) \n",
    "_ = ax.axis(False)\n",
    "plt.savefig('tmp.png', frameon=False, dpi=5)\n",
    "\n",
    "img = cv2.imread(\"tmp.png\", cv2.IMREAD_GRAYSCALE)\n",
    "img.shape\n",
    "#np.min(img)\n",
    "#plt.imshow(img)"
   ]
  },
  {
   "cell_type": "code",
   "execution_count": null,
   "metadata": {},
   "outputs": [],
   "source": []
  },
  {
   "cell_type": "code",
   "execution_count": null,
   "metadata": {},
   "outputs": [],
   "source": []
  }
 ],
 "metadata": {
  "kernelspec": {
   "display_name": "Python 3",
   "language": "python",
   "name": "python3"
  },
  "language_info": {
   "codemirror_mode": {
    "name": "ipython",
    "version": 3
   },
   "file_extension": ".py",
   "mimetype": "text/x-python",
   "name": "python",
   "nbconvert_exporter": "python",
   "pygments_lexer": "ipython3",
   "version": "3.7.6"
  }
 },
 "nbformat": 4,
 "nbformat_minor": 4
}
